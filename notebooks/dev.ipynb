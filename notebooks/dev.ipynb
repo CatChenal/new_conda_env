{
 "cells": [
  {
   "cell_type": "markdown",
   "metadata": {},
   "source": [
    "_Cell 1: jupyter helpers_"
   ]
  },
  {
   "cell_type": "code",
   "execution_count": 1,
   "metadata": {
    "jupyter": {
     "source_hidden": true
    },
    "tags": []
   },
   "outputs": [],
   "source": [
    "# jupyter helpers\n",
    "\n",
    "# To get multiple outputs from one cell:\n",
    "from IPython.core.interactiveshell import InteractiveShell\n",
    "InteractiveShell.ast_node_interactivity = 'all'\n",
    "\n",
    "from IPython import get_ipython\n",
    "from IPython.display import HTML, Markdown, Image\n",
    "# for presentations:\n",
    "#display(HTML(\"<style>.container { width:100% !important; }</style>\"))\n",
    "\n",
    "\n",
    "def add_div(div_class='info', div_start='Tip:', \n",
    "            div_text='Some tip here', output_string=True):\n",
    "    \"\"\"\n",
    "    Behaviour with default `output_string=True`:\n",
    "    The cell is overwritten with the output, but the cell mode is still 'code',\n",
    "    not 'markdown'.\n",
    "    Workaround: After running the function, click on the new cell, press ESC, \n",
    "                type 'm', then run the new cell.\n",
    "    If `output_string=False`, the output is displayed in an new cell with the \n",
    "    code cell visible.\n",
    "    ```\n",
    "    [x]\n",
    "    add_div('alert-warning', 'Tip: ', 'some tip here', output_string=True)\n",
    "    [x]\n",
    "    <div class=\"alert alert-warning\"><b>Tip: </b>some tip here</div>\n",
    "    ```\n",
    "    \"\"\"\n",
    "    accepted = ['info', 'warning', 'danger']\n",
    "    div_class = div_class.lower()\n",
    "    if div_class not in accepted:\n",
    "        msg = f'<div class=\"alert\"><b>Wrong class:&nbsp;</b> `div_start` not in: {accepted}.</div>'\n",
    "        return Markdown(msg)\n",
    "    \n",
    "    div = f\"\"\"<div class=\"alert alert-{div_class}\"><b>{div_start}&nbsp;&nbsp;</b>{div_text}</div>\"\"\"\n",
    "    if output_string:\n",
    "        return get_ipython().set_next_input(div, 'markdown')\n",
    "    else:\n",
    "        return Markdown(div)\n",
    "\n",
    "    \n",
    "def new_section(title='New section'):\n",
    "    style = \"text-align:center;background:#c2d3ef;padding:16px;color:#ffffff;font-size:2em;width:98%\"\n",
    "    div = f'<div style=\"{style}\">{title}</div>'\n",
    "    #return HTML('<div style=\"{}\">{}</div>'.format(style, title))\n",
    "    return get_ipython().set_next_input(div, 'markdown')\n"
   ]
  },
  {
   "cell_type": "markdown",
   "metadata": {},
   "source": [
    "_Cell 2: project helpers_"
   ]
  },
  {
   "cell_type": "code",
   "execution_count": 2,
   "metadata": {
    "jupyter": {
     "source_hidden": true
    },
    "tags": []
   },
   "outputs": [
    {
     "name": "stdout",
     "output_type": "stream",
     "text": [
      "Path added to sys.path\n",
      "\n",
      "Listing from sys_info():\n",
      "Python ver: 3.10.8 | packaged by conda-forge | (main, Nov 22 2022, 08:16:33) [MSC v.1929 64 bit (AMD64)]\n",
      "Python env: miniconda3\n",
      "OS:         win32\n",
      "Current dir: C:\\Users\\catch\\Documents\\GitHub\\new_conda_env\\notebooks\n",
      "\n",
      "\n",
      "Listing from watermark ext:\n",
      "Last updated: 2023-02-09T12:23:53.657387-05:00\n",
      "\n",
      "Python implementation: CPython\n",
      "Python version       : 3.10.8\n",
      "IPython version      : 8.9.0\n",
      "\n",
      "Compiler    : MSC v.1929 64 bit (AMD64)\n",
      "OS          : Windows\n",
      "Release     : 10\n",
      "Machine     : AMD64\n",
      "Processor   : Intel64 Family 6 Model 142 Stepping 10, GenuineIntel\n",
      "CPU cores   : 8\n",
      "Architecture: 64bit\n",
      "\n"
     ]
    }
   ],
   "source": [
    "# project helpers\n",
    "\n",
    "import sys\n",
    "from pathlib import Path\n",
    "from pprint import pprint as pp\n",
    "\n",
    "def sys_info():\n",
    "    frmt = \"\\nListing from sys_info():\\n\"\n",
    "    frmt += \"Python ver: {}\\nPython env: {}\\n\"\n",
    "    frmt += \"OS:         {}\\nCurrent dir: {}\\n\"\n",
    "    print(frmt.format(sys.version, \n",
    "                      Path(sys.prefix).name,\n",
    "                      sys.platform,\n",
    "                      Path.cwd()))\n",
    "\n",
    "\n",
    "def add_to_sys_path(this_path, up=False):\n",
    "    \"\"\"\n",
    "    Prepend this_path to sys.path.\n",
    "    If up=True, path refers to parent folder (1 level up).\n",
    "    \"\"\"\n",
    "    newp = Path(this_path).as_posix() # no str method (?)\n",
    "    if up:\n",
    "        newp = Path(this_path).parent.as_posix()\n",
    "\n",
    "    msg = 'Path already in sys.path'\n",
    "    if newp not in sys.path:\n",
    "        sys.path.insert(1, newp)\n",
    "        msg = 'Path added to sys.path'\n",
    "    print(msg)\n",
    "\n",
    "# if notebook inside another folder, eg ./notebooks:\n",
    "nb_folder = 'notebooks'\n",
    "add_to_sys_path(Path.cwd(), Path.cwd().name.startswith(nb_folder))\n",
    "\n",
    "\n",
    "# Filtered dir() for method discovery:\n",
    "def filter_dir(mdl, filter_str=None, start_with_str='_', exclude=True):\n",
    "    \"\"\"Filter dir(mdl) for method discovery.\n",
    "       Input:\n",
    "       :param mdl (object): module, optionally with submodule path(s), e.g. mdl.submdl1.submdl2.\n",
    "       :param filter_str (str, None): filter all method names containing that string.\n",
    "       :param start_with_str (str, '_'), exclude (bool, True): start_with_str and exclude work \n",
    "              together to perform search on non-dunder methods (default).\n",
    "    \"\"\"\n",
    "    search_dir = [d for d in dir(mdl) if not d.startswith(start_with_str) == exclude]\n",
    "    if filter_str is None:\n",
    "        return search_dir\n",
    "    else:\n",
    "        filter_str = filter_str.lower()\n",
    "        return [d for d in search_dir if d.lower().find(filter_str) != -1]\n",
    "\n",
    "\n",
    "def get_project_dirs(which: list,\n",
    "                     nb_folder='notebooks',\n",
    "                     use_parent=True):\n",
    "    '''Create folder(s) named in `which` at the parent level.'''\n",
    "    dir_lst = []\n",
    "    if Path.cwd().name.startswith(nb_folder) or use_parent:\n",
    "        dir_fn = Path.cwd().parent.joinpath\n",
    "    else:\n",
    "        dir_fn = Path.cwd().joinpath\n",
    "        \n",
    "    for d in which:\n",
    "        DIR = dir_fn(d)\n",
    "        if not DIR.exists():\n",
    "            Path.mkdir(DIR)\n",
    "        dir_lst.append(DIR)\n",
    "    return dir_lst\n",
    "\n",
    "#DIR_DATA, \n",
    "DIR_IMG, DIR_TMP = get_project_dirs(['images', '_temp'])\n",
    "\n",
    "\n",
    "# autoreload extension\n",
    "if 'autoreload' not in get_ipython().extension_manager.loaded:\n",
    "    get_ipython().run_line_magic('load_ext', 'autoreload')\n",
    "\n",
    "%autoreload 2\n",
    "\n",
    "#..................\n",
    "sys_info()\n",
    "\n",
    "no_wmark = False\n",
    "try:\n",
    "    %load_ext watermark\n",
    "    #%watermark\n",
    "except ModuleNotFoundError:\n",
    "    no_wmark = True\n",
    "\n",
    "if not no_wmark:\n",
    "    print(\"\\nListing from watermark ext:\")\n",
    "    %watermark\n",
    "    #-iv"
   ]
  },
  {
   "cell_type": "markdown",
   "metadata": {},
   "source": [
    "---\n",
    "---\n",
    "# Testing modules\n",
    "---"
   ]
  },
  {
   "cell_type": "code",
   "execution_count": 144,
   "metadata": {},
   "outputs": [],
   "source": [
    "from new_conda_env import main"
   ]
  },
  {
   "cell_type": "code",
   "execution_count": 145,
   "metadata": {},
   "outputs": [
    {
     "data": {
      "text/plain": [
       "['CondaEnvir',\n",
       " 'CondaFlag',\n",
       " 'Enum',\n",
       " 'PIPE',\n",
       " 'Path',\n",
       " 'Popen',\n",
       " 'context',\n",
       " 'getLogger',\n",
       " 'get_pip_deps',\n",
       " 'list2cmdline',\n",
       " 'load_env_yml',\n",
       " 'log',\n",
       " 'os',\n",
       " 'partial',\n",
       " 'path2str',\n",
       " 'path2str0',\n",
       " 're',\n",
       " 'run_export',\n",
       " 'save_to_yml',\n",
       " 'subprocess',\n",
       " 'sys',\n",
       " 'user_rc_path',\n",
       " 'winOS',\n",
       " 'yaml',\n",
       " 'yaml_round_trip_dump',\n",
       " 'yaml_round_trip_load']"
      ]
     },
     "execution_count": 145,
     "metadata": {},
     "output_type": "execute_result"
    }
   ],
   "source": [
    "filter_dir(main)"
   ]
  },
  {
   "cell_type": "code",
   "execution_count": 146,
   "metadata": {},
   "outputs": [
    {
     "data": {
      "text/plain": [
       "CondaEnvir(old_ver: str, new_ver: str, dotless_ver: bool, env_to_clone: str, new_env_name: str = 'default', kernel: str = 'python', debug: bool = True)"
      ]
     },
     "execution_count": 146,
     "metadata": {},
     "output_type": "execute_result"
    },
    {
     "name": "stdout",
     "output_type": "stream",
     "text": [
      "\n"
     ]
    },
    {
     "data": {
      "text/plain": [
       "{'conda_prefix': WindowsPath('C:/Users/catch/miniconda3'),\n",
       " 'active_prefix': WindowsPath('C:/Users/catch/miniconda3'),\n",
       " 'user_condarc': WindowsPath('C:/Users/catch/.condarc'),\n",
       " 'env_dir': WindowsPath('C:/Users/catch/miniconda3/envs'),\n",
       " 'default_python': '3.10'}"
      ]
     },
     "execution_count": 146,
     "metadata": {},
     "output_type": "execute_result"
    }
   ],
   "source": [
    "#\n",
    "# Class arguments => to be retrieved from cli\n",
    "#\n",
    "\n",
    "# name of env to 'quick-clone':\n",
    "env_to_clone = 'ds310'\n",
    "\n",
    "# remove periods in kernel ver if True:\n",
    "dotless_ver = True\n",
    "old_py_ver = '3.10'\n",
    "new_py_ver = '3.11'\n",
    "#kernel = \"python\"  # (default)\n",
    "#debug = True # (default until conda-forge upload)\n",
    "\n",
    "conda_vir = main.CondaEnvir(old_py_ver, new_py_ver, dotless_ver, env_to_clone)\n",
    "conda_vir\n",
    "#print(conda_vir)\n",
    "\n",
    "print()\n",
    "conda_vir.basic_info"
   ]
  },
  {
   "cell_type": "code",
   "execution_count": 147,
   "metadata": {},
   "outputs": [
    {
     "data": {
      "text/plain": [
       "['basic_info',\n",
       " 'conda_root',\n",
       " 'create_new_env_yaml',\n",
       " 'create_yamls',\n",
       " 'debug',\n",
       " 'dotless_ver',\n",
       " 'env_to_clone',\n",
       " 'get_conda_info',\n",
       " 'get_export_cmd',\n",
       " 'get_lean_yml_pathname',\n",
       " 'get_new_env_name',\n",
       " 'get_new_yml_name',\n",
       " 'get_rc_python_deps',\n",
       " 'get_user_rc',\n",
       " 'has_user_rc',\n",
       " 'kernel',\n",
       " 'new_env_name',\n",
       " 'new_prefix',\n",
       " 'new_ver',\n",
       " 'new_yml',\n",
       " 'old_prefix',\n",
       " 'old_ver',\n",
       " 'user_rc',\n",
       " 'yml_hist',\n",
       " 'yml_nobld']"
      ]
     },
     "execution_count": 147,
     "metadata": {},
     "output_type": "execute_result"
    }
   ],
   "source": [
    "filter_dir(conda_vir)"
   ]
  },
  {
   "cell_type": "raw",
   "metadata": {},
   "source": [
    "# this actually refers to the parent folder of the [Ana|mini]conda installation:\n",
    "# no guarantee that it's the user's?\n",
    "#\n",
    "user_dir = conda_vir.basic_info['conda_prefix'].parent\n",
    "user_dir"
   ]
  },
  {
   "cell_type": "markdown",
   "metadata": {},
   "source": [
    "# File processing\n",
    "\n",
    "## Using 2 files:\n",
    "* test_yml_nobld = \"env_ds310_nobld.yml\" \n",
    " => get pip dependencies \n",
    " => remove versions\n",
    "\n",
    "* test_yml_hist = \"env_ds310_hist.yml\" \n",
    " => delete kernel line (python) \n",
    " => insert kernel line with new version as 1st dep \n",
    " => insert pip deps as last item in deps list (append)\n",
    "\n",
    "\n",
    "## TODO: Create those 2 files using the conda api\n",
    "\n",
    "\n",
    "## File processing:\n",
    "  [x] Get clean pip deps from long yml  \n",
    "  [x] get new \"lean\" yml file: partial: processing is done  \n",
    "  "
   ]
  },
  {
   "cell_type": "raw",
   "metadata": {},
   "source": [
    "import os\n",
    "os.getenv('CONDA_DEFAULT_ENV')"
   ]
  },
  {
   "cell_type": "raw",
   "metadata": {},
   "source": [
    "from ruamel.yaml import YAML\n",
    "yaml = YAML()\n",
    "\n",
    "with open(new_path, 'wb') as f:\n",
    "    yaml.dump(yml_hist, f)"
   ]
  }
 ],
 "metadata": {
  "kernelspec": {
   "display_name": "python3 (root) *",
   "language": "python",
   "name": "conda-root-py"
  },
  "language_info": {
   "codemirror_mode": {
    "name": "ipython",
    "version": 3
   },
   "file_extension": ".py",
   "mimetype": "text/x-python",
   "name": "python",
   "nbconvert_exporter": "python",
   "pygments_lexer": "ipython3",
   "version": "3.10.8"
  }
 },
 "nbformat": 4,
 "nbformat_minor": 4
}
