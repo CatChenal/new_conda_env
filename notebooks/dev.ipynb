{
 "cells": [
  {
   "cell_type": "markdown",
   "metadata": {},
   "source": [
    "_Code Cell 1: jupyter helpers_"
   ]
  },
  {
   "cell_type": "code",
   "execution_count": 1,
   "metadata": {
    "jupyter": {
     "source_hidden": true
    },
    "tags": []
   },
   "outputs": [],
   "source": [
    "# jupyter helpers\n",
    "\n",
    "# To get multiple outputs from one cell:\n",
    "from IPython.core.interactiveshell import InteractiveShell\n",
    "InteractiveShell.ast_node_interactivity = 'all'\n",
    "\n",
    "from IPython import get_ipython\n",
    "from IPython.display import HTML, Markdown, Image\n",
    "# for presentations:\n",
    "#display(HTML(\"<style>.container { width:100% !important; }</style>\"))\n",
    "\n",
    "\n",
    "def add_div(div_class='info', div_start='Tip:', \n",
    "            div_text='Some tip here', output_string=True):\n",
    "    \"\"\"\n",
    "    Behaviour with default `output_string=True`:\n",
    "    The cell is overwritten with the output, but the cell mode is still 'code',\n",
    "    not 'markdown'.\n",
    "    Workaround: After running the function, click on the new cell, press ESC, \n",
    "                type 'm', then run the new cell.\n",
    "    If `output_string=False`, the output is displayed in an new cell with the \n",
    "    code cell visible.\n",
    "    ```\n",
    "    [x]\n",
    "    add_div('alert-warning', 'Tip: ', 'some tip here', output_string=True)\n",
    "    [x]\n",
    "    <div class=\"alert alert-warning\"><b>Tip: </b>some tip here</div>\n",
    "    ```\n",
    "    \"\"\"\n",
    "    accepted = ['info', 'warning', 'danger']\n",
    "    div_class = div_class.lower()\n",
    "    if div_class not in accepted:\n",
    "        msg = f'<div class=\"alert\"><b>Wrong class:&nbsp;</b> `div_start` not in: {accepted}.</div>'\n",
    "        return Markdown(msg)\n",
    "    \n",
    "    div = f\"\"\"<div class=\"alert alert-{div_class}\"><b>{div_start}&nbsp;&nbsp;</b>{div_text}</div>\"\"\"\n",
    "    if output_string:\n",
    "        return get_ipython().set_next_input(div, 'markdown')\n",
    "    else:\n",
    "        return Markdown(div)\n",
    "\n",
    "    \n",
    "def new_section(title='New section'):\n",
    "    style = \"text-align:center;background:#c2d3ef;padding:16px;color:#ffffff;font-size:2em;width:98%\"\n",
    "    div = f'<div style=\"{style}\">{title}</div>'\n",
    "    #return HTML('<div style=\"{}\">{}</div>'.format(style, title))\n",
    "    return get_ipython().set_next_input(div, 'markdown')\n"
   ]
  },
  {
   "cell_type": "markdown",
   "metadata": {},
   "source": [
    "_Code Cell 2: project helpers_"
   ]
  },
  {
   "cell_type": "code",
   "execution_count": 2,
   "metadata": {
    "jupyter": {
     "source_hidden": true
    },
    "tags": []
   },
   "outputs": [
    {
     "name": "stdout",
     "output_type": "stream",
     "text": [
      "Path added to sys.path\n",
      "\n",
      "Listing from sys_info():\n",
      "Python ver: 3.10.8 | packaged by conda-forge | (main, Nov 22 2022, 08:16:33) [MSC v.1929 64 bit (AMD64)]\n",
      "Python env: miniconda3\n",
      "OS:         win32\n",
      "Current dir: C:\\Users\\catch\\Documents\\GitHub\\new_conda_env\\notebooks\n",
      "\n",
      "\n",
      "Listing from watermark ext:\n",
      "Last updated: 2023-02-14T14:48:10.875914-05:00\n",
      "\n",
      "Python implementation: CPython\n",
      "Python version       : 3.10.8\n",
      "IPython version      : 8.9.0\n",
      "\n",
      "Compiler    : MSC v.1929 64 bit (AMD64)\n",
      "OS          : Windows\n",
      "Release     : 10\n",
      "Machine     : AMD64\n",
      "Processor   : Intel64 Family 6 Model 142 Stepping 10, GenuineIntel\n",
      "CPU cores   : 8\n",
      "Architecture: 64bit\n",
      "\n"
     ]
    }
   ],
   "source": [
    "# project helpers\n",
    "\n",
    "import sys\n",
    "from pathlib import Path\n",
    "from pprint import pprint as pp\n",
    "\n",
    "def sys_info():\n",
    "    frmt = \"\\nListing from sys_info():\\n\"\n",
    "    frmt += \"Python ver: {}\\nPython env: {}\\n\"\n",
    "    frmt += \"OS:         {}\\nCurrent dir: {}\\n\"\n",
    "    print(frmt.format(sys.version, \n",
    "                      Path(sys.prefix).name,\n",
    "                      sys.platform,\n",
    "                      Path.cwd()))\n",
    "\n",
    "\n",
    "def add_to_sys_path(this_path, up=False):\n",
    "    \"\"\"\n",
    "    Prepend this_path to sys.path.\n",
    "    If up=True, path refers to parent folder (1 level up).\n",
    "    \"\"\"\n",
    "    newp = Path(this_path).as_posix() # no str method (?)\n",
    "    if up:\n",
    "        newp = Path(this_path).parent.as_posix()\n",
    "\n",
    "    msg = 'Path already in sys.path'\n",
    "    if newp not in sys.path:\n",
    "        sys.path.insert(1, newp)\n",
    "        msg = 'Path added to sys.path'\n",
    "    print(msg)\n",
    "\n",
    "# if notebook inside another folder, eg ./notebooks:\n",
    "nb_folder = 'notebooks'\n",
    "add_to_sys_path(Path.cwd(), Path.cwd().name.startswith(nb_folder))\n",
    "\n",
    "\n",
    "# Filtered dir() for method discovery:\n",
    "def filter_dir(mdl, filter_str=None, start_with_str='_', exclude=True):\n",
    "    \"\"\"Filter dir(mdl) for method discovery.\n",
    "       Input:\n",
    "       :param mdl (object): module, optionally with submodule path(s), e.g. mdl.submdl1.submdl2.\n",
    "       :param filter_str (str, None): filter all method names containing that string.\n",
    "       :param start_with_str (str, '_'), exclude (bool, True): start_with_str and exclude work \n",
    "              together to perform search on non-dunder methods (default).\n",
    "    \"\"\"\n",
    "    search_dir = [d for d in dir(mdl) if not d.startswith(start_with_str) == exclude]\n",
    "    if filter_str is None:\n",
    "        return search_dir\n",
    "    else:\n",
    "        filter_str = filter_str.lower()\n",
    "        return [d for d in search_dir if d.lower().find(filter_str) != -1]\n",
    "\n",
    "# alias:\n",
    "fdir = filter_dir\n",
    "\n",
    "def get_project_dirs(which: list,\n",
    "                     nb_folder='notebooks',\n",
    "                     use_parent=True):\n",
    "    '''Create folder(s) named in `which` at the parent level.'''\n",
    "    dir_lst = []\n",
    "    if Path.cwd().name.startswith(nb_folder) or use_parent:\n",
    "        dir_fn = Path.cwd().parent.joinpath\n",
    "    else:\n",
    "        dir_fn = Path.cwd().joinpath\n",
    "        \n",
    "    for d in which:\n",
    "        DIR = dir_fn(d)\n",
    "        if not DIR.exists():\n",
    "            Path.mkdir(DIR)\n",
    "        dir_lst.append(DIR)\n",
    "    return dir_lst\n",
    "\n",
    "#DIR_DATA, \n",
    "DIR_IMG, DIR_TMP = get_project_dirs(['images', '_temp'])\n",
    "\n",
    "\n",
    "# autoreload extension\n",
    "if 'autoreload' not in get_ipython().extension_manager.loaded:\n",
    "    get_ipython().run_line_magic('load_ext', 'autoreload')\n",
    "\n",
    "%autoreload 2\n",
    "\n",
    "#..................\n",
    "sys_info()\n",
    "\n",
    "no_wmark = False\n",
    "try:\n",
    "    %load_ext watermark\n",
    "    #%watermark\n",
    "except ModuleNotFoundError:\n",
    "    no_wmark = True\n",
    "\n",
    "if not no_wmark:\n",
    "    print(\"\\nListing from watermark ext:\")\n",
    "    %watermark\n",
    "    #-iv"
   ]
  },
  {
   "cell_type": "markdown",
   "metadata": {},
   "source": [
    "---\n",
    "---\n",
    "# Testing modules\n",
    "---"
   ]
  },
  {
   "cell_type": "markdown",
   "metadata": {},
   "source": [
    "# No dry-run for conda env create!\n",
    "### see [Issue7495](https://github.com/conda/conda/issues/7495)"
   ]
  },
  {
   "cell_type": "code",
   "execution_count": 3,
   "metadata": {},
   "outputs": [],
   "source": [
    "from new_conda_env import envir, processing as proc\n",
    "from new_conda_env.main import generate_parser"
   ]
  },
  {
   "cell_type": "code",
   "execution_count": 4,
   "metadata": {},
   "outputs": [
    {
     "data": {
      "text/plain": [
       "'new_conda_env'"
      ]
     },
     "execution_count": 4,
     "metadata": {},
     "output_type": "execute_result"
    },
    {
     "name": "stdout",
     "output_type": "stream",
     "text": [
      "\n",
      "conda_new_env is a tool for creating a 'lean' environment from\n",
      "an existing one, e.g. when a new kernel version is desired.\n",
      "\n"
     ]
    },
    {
     "data": {
      "text/plain": [
       "Namespace(old_ver='3.10.8', new_ver='3.9', dotless_ver=True, env_to_clone='ds310', new_env_name='ds39', kernel='python', display_new_yml=1, debug=1)"
      ]
     },
     "execution_count": 4,
     "metadata": {},
     "output_type": "execute_result"
    }
   ],
   "source": [
    "conda_env_parser = generate_parser()\n",
    "conda_env_parser.prog\n",
    "print(conda_env_parser.description)\n",
    "\n",
    "args = conda_env_parser.parse_args(\"-old_ver 3.10.8 -new_ver 3.9 -dotless_ver 1 -env_to_clone ds310 -new_env_name ds39\".split())\n",
    "args"
   ]
  },
  {
   "cell_type": "code",
   "execution_count": 16,
   "metadata": {},
   "outputs": [],
   "source": [
    "from enum import Enum\n",
    "\n",
    "class MyClass:\n",
    "    class CondaFlag(Enum):\n",
    "        NOBLD = \"--no-builds\"\n",
    "        HIST = \"--from-history\"\n",
    "\n",
    "    def __init__(self, name, env_to_clone):\n",
    "        self.name = name\n",
    "        self.env_to_clone = env_to_clone\n",
    "\n",
    "    def get_export_cmd(self, flag: CondaFlag) -> str:\n",
    "        fla = self.CondaFlag[flag.name].value\n",
    "        cmd = f\"conda env export -n {self.env_to_clone} {fla}\"\n",
    "        return cmd"
   ]
  },
  {
   "cell_type": "code",
   "execution_count": 17,
   "metadata": {},
   "outputs": [
    {
     "data": {
      "text/plain": [
       "'conda env export -n ds310 --from-history'"
      ]
     },
     "execution_count": 17,
     "metadata": {},
     "output_type": "execute_result"
    }
   ],
   "source": [
    "q = MyClass('Cat', 'ds310')\n",
    "cmd = q.get_export_cmd(q.CondaFlag.HIST)\n",
    "cmd"
   ]
  },
  {
   "cell_type": "code",
   "execution_count": null,
   "metadata": {},
   "outputs": [],
   "source": [
    "conda_vir = envir.CondaEnvir(old_ver=args.old_ver,\n",
    "                             new_ver=args.new_ver, \n",
    "                             dotless_ver=args.dotless_ver,\n",
    "                             env_to_clone=args.env_to_clone,\n",
    "                             new_env_name=args.new_env_name,\n",
    "                             kernel=args.kernel,\n",
    "                             display_new_yml=args.display_new_yml,\n",
    "                             debug=args.debug)\n",
    "\n",
    "fdir(conda_vir)"
   ]
  },
  {
   "cell_type": "code",
   "execution_count": null,
   "metadata": {},
   "outputs": [],
   "source": [
    "conda_vir.create_new_env_yaml()"
   ]
  },
  {
   "cell_type": "markdown",
   "metadata": {},
   "source": [
    "# Call example at the cmd or terminal window:\n",
    "`python -m new_conda_env.main -old_ver 3.10 -new_ver 3.9 -dotless_ver 1 -env_to_clone ds310 -new_env_name ds39`"
   ]
  },
  {
   "cell_type": "code",
   "execution_count": null,
   "metadata": {},
   "outputs": [],
   "source": []
  },
  {
   "cell_type": "raw",
   "metadata": {},
   "source": [
    "from conda.base.context import context, user_rc_path\n",
    "\n",
    "Path(context.conda_prefix).parent == Path().home()\n",
    "Path(context.conda_prefix).parent\n",
    "Path().home()"
   ]
  },
  {
   "cell_type": "raw",
   "metadata": {},
   "source": [
    "# this actually refers to the parent folder of the [Ana|mini]conda installation:\n",
    "# no guarantee that it's the user's?\n",
    "#\n",
    "user_dir = conda_vir.basic_info['conda_prefix'].parent\n",
    "user_dir\n",
    "\n",
    "conda_vir.basic_info[\"user_condarc\"].parent\n",
    "conda_vir.user_dir\n",
    "\n",
    "Path().home()"
   ]
  }
 ],
 "metadata": {
  "kernelspec": {
   "display_name": "python3 (root) *",
   "language": "python",
   "name": "conda-root-py"
  },
  "language_info": {
   "codemirror_mode": {
    "name": "ipython",
    "version": 3
   },
   "file_extension": ".py",
   "mimetype": "text/x-python",
   "name": "python",
   "nbconvert_exporter": "python",
   "pygments_lexer": "ipython3",
   "version": "3.10.8"
  }
 },
 "nbformat": 4,
 "nbformat_minor": 4
}
