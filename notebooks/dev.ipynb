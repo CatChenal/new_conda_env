{
 "cells": [
  {
   "cell_type": "markdown",
   "metadata": {},
   "source": [
    "_Code Cell 1: jupyter helpers_"
   ]
  },
  {
   "cell_type": "code",
   "execution_count": 1,
   "metadata": {
    "jupyter": {
     "source_hidden": true
    },
    "tags": []
   },
   "outputs": [],
   "source": [
    "# jupyter helpers\n",
    "\n",
    "# To get multiple outputs from one cell:\n",
    "from IPython.core.interactiveshell import InteractiveShell\n",
    "InteractiveShell.ast_node_interactivity = 'all'\n",
    "\n",
    "from IPython import get_ipython\n",
    "from IPython.display import HTML, Markdown, Image\n",
    "# for presentations:\n",
    "#display(HTML(\"<style>.container { width:100% !important; }</style>\"))\n",
    "\n",
    "\n",
    "def add_div(div_class='info', div_start='Tip:', \n",
    "            div_text='Some tip here', output_string=True):\n",
    "    \"\"\"\n",
    "    Behaviour with default `output_string=True`:\n",
    "    The cell is overwritten with the output, but the cell mode is still 'code',\n",
    "    not 'markdown'.\n",
    "    Workaround: After running the function, click on the new cell, press ESC, \n",
    "                type 'm', then run the new cell.\n",
    "    If `output_string=False`, the output is displayed in an new cell with the \n",
    "    code cell visible.\n",
    "    ```\n",
    "    [x]\n",
    "    add_div('alert-warning', 'Tip: ', 'some tip here', output_string=True)\n",
    "    [x]\n",
    "    <div class=\"alert alert-warning\"><b>Tip: </b>some tip here</div>\n",
    "    ```\n",
    "    \"\"\"\n",
    "    accepted = ['info', 'warning', 'danger']\n",
    "    div_class = div_class.lower()\n",
    "    if div_class not in accepted:\n",
    "        msg = f'<div class=\"alert\"><b>Wrong class:&nbsp;</b> `div_start` not in: {accepted}.</div>'\n",
    "        return Markdown(msg)\n",
    "    \n",
    "    div = f\"\"\"<div class=\"alert alert-{div_class}\"><b>{div_start}&nbsp;&nbsp;</b>{div_text}</div>\"\"\"\n",
    "    if output_string:\n",
    "        return get_ipython().set_next_input(div, 'markdown')\n",
    "    else:\n",
    "        return Markdown(div)\n",
    "\n",
    "    \n",
    "def new_section(title='New section'):\n",
    "    style = \"text-align:center;background:#c2d3ef;padding:16px;color:#ffffff;font-size:2em;width:98%\"\n",
    "    div = f'<div style=\"{style}\">{title}</div>'\n",
    "    #return HTML('<div style=\"{}\">{}</div>'.format(style, title))\n",
    "    return get_ipython().set_next_input(div, 'markdown')\n"
   ]
  },
  {
   "cell_type": "markdown",
   "metadata": {},
   "source": [
    "_Code Cell 2: project helpers_"
   ]
  },
  {
   "cell_type": "code",
   "execution_count": 2,
   "metadata": {
    "jupyter": {
     "source_hidden": true
    },
    "tags": []
   },
   "outputs": [
    {
     "name": "stdout",
     "output_type": "stream",
     "text": [
      "Path added to sys.path\n",
      "\n",
      "Listing from sys_info():\n",
      "Python ver: 3.10.8 | packaged by conda-forge | (main, Nov 22 2022, 08:16:33) [MSC v.1929 64 bit (AMD64)]\n",
      "Python env: miniconda3\n",
      "OS:         win32\n",
      "Current dir: c:\\Users\\catch\\Documents\\GitHub\\new_conda_env\\notebooks\n",
      "\n",
      "\n",
      "Listing from watermark ext:\n",
      "Last updated: 2023-02-24T18:14:20.810152-05:00\n",
      "\n",
      "Python implementation: CPython\n",
      "Python version       : 3.10.8\n",
      "IPython version      : 8.9.0\n",
      "\n",
      "Compiler    : MSC v.1929 64 bit (AMD64)\n",
      "OS          : Windows\n",
      "Release     : 10\n",
      "Machine     : AMD64\n",
      "Processor   : Intel64 Family 6 Model 142 Stepping 10, GenuineIntel\n",
      "CPU cores   : 8\n",
      "Architecture: 64bit\n",
      "\n"
     ]
    }
   ],
   "source": [
    "# project helpers\n",
    "\n",
    "import sys\n",
    "from pathlib import Path\n",
    "from pprint import pprint as pp\n",
    "\n",
    "def sys_info():\n",
    "    frmt = \"\\nListing from sys_info():\\n\"\n",
    "    frmt += \"Python ver: {}\\nPython env: {}\\n\"\n",
    "    frmt += \"OS:         {}\\nCurrent dir: {}\\n\"\n",
    "    print(frmt.format(sys.version, \n",
    "                      Path(sys.prefix).name,\n",
    "                      sys.platform,\n",
    "                      Path.cwd()))\n",
    "\n",
    "\n",
    "def add_to_sys_path(this_path, up=False):\n",
    "    \"\"\"\n",
    "    Prepend this_path to sys.path.\n",
    "    If up=True, path refers to parent folder (1 level up).\n",
    "    \"\"\"\n",
    "    newp = Path(this_path).as_posix() # no str method (?)\n",
    "    if up:\n",
    "        newp = Path(this_path).parent.as_posix()\n",
    "\n",
    "    msg = 'Path already in sys.path'\n",
    "    if newp not in sys.path:\n",
    "        sys.path.insert(1, newp)\n",
    "        msg = 'Path added to sys.path'\n",
    "    print(msg)\n",
    "\n",
    "# if notebook inside another folder, eg ./notebooks:\n",
    "nb_folder = 'notebooks'\n",
    "add_to_sys_path(Path.cwd(), Path.cwd().name.startswith(nb_folder))\n",
    "\n",
    "\n",
    "# Filtered dir() for method discovery:\n",
    "def filter_dir(mdl, filter_str=None, start_with_str='_', exclude=True):\n",
    "    \"\"\"Filter dir(mdl) for method discovery.\n",
    "       Input:\n",
    "       :param mdl (object): module, optionally with submodule path(s), e.g. mdl.submdl1.submdl2.\n",
    "       :param filter_str (str, None): filter all method names containing that string.\n",
    "       :param start_with_str (str, '_'), exclude (bool, True): start_with_str and exclude work \n",
    "              together to perform search on non-dunder methods (default).\n",
    "    \"\"\"\n",
    "    search_dir = [d for d in dir(mdl) if not d.startswith(start_with_str) == exclude]\n",
    "    if filter_str is None:\n",
    "        return search_dir\n",
    "    else:\n",
    "        filter_str = filter_str.lower()\n",
    "        return [d for d in search_dir if d.lower().find(filter_str) != -1]\n",
    "\n",
    "# alias:\n",
    "fdir = filter_dir\n",
    "\n",
    "def get_project_dirs(which: list,\n",
    "                     nb_folder='notebooks',\n",
    "                     use_parent=True):\n",
    "    '''Create folder(s) named in `which` at the parent level.'''\n",
    "    dir_lst = []\n",
    "    if Path.cwd().name.startswith(nb_folder) or use_parent:\n",
    "        dir_fn = Path.cwd().parent.joinpath\n",
    "    else:\n",
    "        dir_fn = Path.cwd().joinpath\n",
    "        \n",
    "    for d in which:\n",
    "        DIR = dir_fn(d)\n",
    "        if not DIR.exists():\n",
    "            Path.mkdir(DIR)\n",
    "        dir_lst.append(DIR)\n",
    "    return dir_lst\n",
    "\n",
    "#DIR_DATA, \n",
    "DIR_IMG, DIR_TMP = get_project_dirs(['images', '_temp'])\n",
    "\n",
    "\n",
    "# autoreload extension\n",
    "if 'autoreload' not in get_ipython().extension_manager.loaded:\n",
    "    get_ipython().run_line_magic('load_ext', 'autoreload')\n",
    "\n",
    "%autoreload 2\n",
    "\n",
    "#..................\n",
    "sys_info()\n",
    "\n",
    "no_wmark = False\n",
    "try:\n",
    "    %load_ext watermark\n",
    "    #%watermark\n",
    "except ModuleNotFoundError:\n",
    "    no_wmark = True\n",
    "\n",
    "if not no_wmark:\n",
    "    print(\"\\nListing from watermark ext:\")\n",
    "    %watermark\n",
    "    #-iv"
   ]
  },
  {
   "cell_type": "markdown",
   "metadata": {},
   "source": [
    "---\n",
    "---\n",
    "# Testing modules\n",
    "---"
   ]
  },
  {
   "cell_type": "raw",
   "metadata": {
    "jupyter": {
     "source_hidden": true
    },
    "tags": []
   },
   "source": [
    "from threading import Timer\n",
    "\n",
    "class TimeoutExpired(Exception):\n",
    "    pass\n",
    "\n",
    "def timed_input(ver, prompt, timeout, timer=Timer):\n",
    "    #t.start()\n",
    "    answer = input(prompt)\n",
    "    timer.cancel()\n",
    "\n",
    "    \n",
    "def check_ver(ver):\n",
    "    pt = '.'\n",
    "    dots = ver.count(pt)\n",
    "    if not dots:\n",
    "        if len(ver) > 1:\n",
    "            var = validate_ver(ver)\n",
    "    \n",
    "    return ver\n",
    "            \n",
    "           \n",
    "def validate_ver0(ver):\n",
    "    timeout = 8\n",
    "    t = Timer(timeout, print, ['Timeout: input accepted as given.'])\n",
    "\n",
    "    prompt = \"[Version validation: High version without period]\\n\"\n",
    "    prompt = prompt + f\"\\tIs this version: '{ver}' missing a period? Correct or press Enter to keep.\\n\"\n",
    "    prompt = prompt + f\"\\tInitial value will be used after {timeout}s timeout.\\n\"\n",
    "\n",
    "    try:\n",
    "        t.start()\n",
    "        answer = input(prompt)\n",
    "        t.cancel()\n",
    "        \n",
    "    except TimeoutExpired:\n",
    "        print(f\"Unchanged ver: {ver}\")\n",
    "        return ver\n",
    "    \n",
    "    print(f\"Validated ver: {answer}\")\n",
    "    return answer\n",
    "\n",
    "\n",
    "def validate_ver(ver: str, ver_argname: str) -> str:\n",
    "    prompt = f\"ATTENTION [{ver_argname} validation: High version without period]\\n\"\n",
    "    prompt = prompt + f\"\\tIs this version: '{ver}' missing a period? Correct or press Enter to keep.\\n\"\n",
    "    prompt = prompt + f\"\\tInitial value will be used after {timeout}s timeout.\\n\"\n",
    "\n",
    "    answer = None\n",
    "    answer = input(prompt)\n",
    "\n",
    "\n",
    "ver = '39'\n",
    "ver2 = validate_ver(ver)\n",
    "ver2"
   ]
  },
  {
   "cell_type": "raw",
   "metadata": {
    "jupyter": {
     "source_hidden": true
    },
    "tags": []
   },
   "source": [
    "import msvcrt\n",
    "import time\n",
    "\n",
    "class TimeoutExpired(Exception):\n",
    "    pass\n",
    "\n",
    "def input_with_timeout(prompt, timeout, timer=time.monotonic):\n",
    "    sys.stdout.write(prompt)\n",
    "    sys.stdout.flush()\n",
    "    endtime = timer() + timeout\n",
    "    result = []\n",
    "    while timer() < endtime:\n",
    "        if msvcrt.kbhit():\n",
    "            result.append(msvcrt.getwche()) #XXX can it block on multibyte characters?\n",
    "            if result[-1] == '\\r':\n",
    "                return ''.join(result[:-1])\n",
    "        time.sleep(0.04) # just to yield to other processes/threads\n",
    "    raise TimeoutExpired\n",
    "Usage:\n",
    "\n",
    "try:\n",
    "    answer = input_with_timeout(prompt, 10)\n",
    "except TimeoutExpired:\n",
    "    print('Sorry, times up')\n",
    "else:\n",
    "    print('Got %r' % answer)"
   ]
  },
  {
   "cell_type": "markdown",
   "metadata": {},
   "source": [
    "# TODO:\n",
    "## test logging level\n",
    "* Wanted: the cli sets the level\n",
    "=> remove root logger in init\n",
    "=> write a test fn to findout which is the level when cli:main is run"
   ]
  },
  {
   "cell_type": "code",
   "execution_count": 5,
   "metadata": {},
   "outputs": [],
   "source": [
    "from new_conda_env import cli\n",
    "from unittest.mock import patch"
   ]
  },
  {
   "cell_type": "code",
   "execution_count": 26,
   "metadata": {},
   "outputs": [
    {
     "data": {
      "text/plain": [
       "ArgumentParser(prog='new_conda_env', usage=None, description='Main module (cli):\\nconda_new_env is a tool for \\'lean cloning\\' an environment from \\nan existing one, e.g. when a new kernel version is desired. \\nThe output is a yml file without dependencies versions except for that \\nof the (python) kernel and includes any pip dependencies.\"\\n', formatter_class=<class 'argparse.ArgumentDefaultsHelpFormatter'>, conflict_handler='error', add_help=True)"
      ]
     },
     "execution_count": 26,
     "metadata": {},
     "output_type": "execute_result"
    }
   ],
   "source": [
    "p = cli.generate_parser()\n",
    "p"
   ]
  },
  {
   "cell_type": "code",
   "execution_count": 25,
   "metadata": {},
   "outputs": [
    {
     "data": {
      "text/plain": [
       "Namespace(old_ver=['3.10'], new_ver=['3.9'], dotless_ver=1, env_to_clone=['ds310'], new_env_name=['ds39'], kernel='python', display_new_yml=1, log_level='ERROR')"
      ]
     },
     "execution_count": 25,
     "metadata": {},
     "output_type": "execute_result"
    }
   ],
   "source": [
    "argv = [\"-old_ver\", \"3.10\" , \"-new_ver\", \"3.9\", \"-new_env_name\", \"ds39\", \"-env_to_clone\", \"ds310\"]\n",
    "args = p.parse_args(argv)\n",
    "args"
   ]
  },
  {
   "cell_type": "code",
   "execution_count": 27,
   "metadata": {},
   "outputs": [
    {
     "data": {
      "text/plain": [
       "WindowsPath('C:/Users/catch')"
      ]
     },
     "execution_count": 27,
     "metadata": {},
     "output_type": "execute_result"
    }
   ],
   "source": [
    "Path().home()"
   ]
  },
  {
   "cell_type": "code",
   "execution_count": 3,
   "metadata": {},
   "outputs": [],
   "source": [
    "class CondaFlag:\n",
    "    NOBLD = \"--no-builds\"\n",
    "    HIST = \"--from-history\""
   ]
  },
  {
   "cell_type": "code",
   "execution_count": 5,
   "metadata": {},
   "outputs": [
    {
     "data": {
      "text/plain": [
       "'--no-builds'"
      ]
     },
     "execution_count": 5,
     "metadata": {},
     "output_type": "execute_result"
    }
   ],
   "source": [
    "CondaFlag.NOBLD"
   ]
  },
  {
   "cell_type": "code",
   "execution_count": 6,
   "metadata": {},
   "outputs": [
    {
     "data": {
      "text/plain": [
       "['HIST', 'NOBLD']"
      ]
     },
     "execution_count": 6,
     "metadata": {},
     "output_type": "execute_result"
    }
   ],
   "source": [
    "fdir(CondaFlag)"
   ]
  },
  {
   "cell_type": "code",
   "execution_count": 5,
   "metadata": {},
   "outputs": [],
   "source": [
    "from new_conda_env import envir, processing as proc\n",
    "from new_conda_env.cli import generate_parser, main"
   ]
  },
  {
   "cell_type": "code",
   "execution_count": 8,
   "metadata": {},
   "outputs": [
    {
     "data": {
      "text/plain": [
       "[]"
      ]
     },
     "execution_count": 8,
     "metadata": {},
     "output_type": "execute_result"
    }
   ],
   "source": [
    "fdir(main)"
   ]
  },
  {
   "cell_type": "markdown",
   "metadata": {},
   "source": [
    "# Testing cli:\n",
    "1. fn to mock: main : by-pass conda_vir.create_new_env_yaml()\n",
    "2. class to mock: envir.CondaEnvir"
   ]
  },
  {
   "cell_type": "code",
   "execution_count": 14,
   "metadata": {},
   "outputs": [
    {
     "ename": "NameError",
     "evalue": "name '__main__' is not defined",
     "output_type": "error",
     "traceback": [
      "\u001b[1;31m---------------------------------------------------------------------------\u001b[0m",
      "\u001b[1;31mNameError\u001b[0m                                 Traceback (most recent call last)",
      "Cell \u001b[1;32mIn[14], line 4\u001b[0m\n\u001b[0;32m      2\u001b[0m instance \u001b[38;5;241m=\u001b[39m MockClass\u001b[38;5;241m.\u001b[39mreturn_value\n\u001b[0;32m      3\u001b[0m instance\u001b[38;5;241m.\u001b[39mcreate_new_env_yaml()\u001b[38;5;241m.\u001b[39mreturn_value \u001b[38;5;241m=\u001b[39m Path()\u001b[38;5;241m.\u001b[39mhome()\n\u001b[1;32m----> 4\u001b[0m \u001b[38;5;28;01massert\u001b[39;00m \u001b[43m__main__\u001b[49m\u001b[38;5;241m.\u001b[39menvir\u001b[38;5;241m.\u001b[39mCondaEnvir() \u001b[38;5;129;01mis\u001b[39;00m instance\n\u001b[0;32m      5\u001b[0m \u001b[38;5;28;01massert\u001b[39;00m __main__\u001b[38;5;241m.\u001b[39menvir\u001b[38;5;241m.\u001b[39mCondaEnvir()\u001b[38;5;241m.\u001b[39mcreate_new_env_yaml() \u001b[38;5;241m==\u001b[39m Path()\u001b[38;5;241m.\u001b[39mhome()\n",
      "\u001b[1;31mNameError\u001b[0m: name '__main__' is not defined"
     ]
    }
   ],
   "source": [
    "\n",
    "with patch('__main__.envir.CondaEnvir') as MockClass:\n",
    "    instance = MockClass.return_value\n",
    "    instance.create_new_env_yaml().return_value = Path().home()\n",
    "    assert __main__.envir.CondaEnvir() is instance\n",
    "    assert __main__.envir.CondaEnvir().create_new_env_yaml() == Path().home()"
   ]
  },
  {
   "cell_type": "code",
   "execution_count": 3,
   "metadata": {},
   "outputs": [
    {
     "data": {
      "text/plain": [
       "{'old_ver': 3.1,\n",
       " 'new_ver': 3.9,\n",
       " 'dotless_ver': 1,\n",
       " 'env_to_clone': 'ds310',\n",
       " 'new_env_name': 'ds39'}"
      ]
     },
     "execution_count": 3,
     "metadata": {},
     "output_type": "execute_result"
    }
   ],
   "source": [
    "test_args = dict(old_ver=3.10, new_ver=3.9,dotless_ver=1, env_to_clone=\"ds310\",new_env_name=\"ds39\")\n",
    "test_args"
   ]
  },
  {
   "cell_type": "code",
   "execution_count": 8,
   "metadata": {},
   "outputs": [
    {
     "ename": "SystemExit",
     "evalue": "2",
     "output_type": "error",
     "traceback": [
      "An exception has occurred, use %tb to see the full traceback.\n",
      "\u001b[1;31mSystemExit\u001b[0m\u001b[1;31m:\u001b[0m 2\n"
     ]
    },
    {
     "name": "stderr",
     "output_type": "stream",
     "text": [
      "c:\\Users\\catch\\miniconda3\\lib\\site-packages\\IPython\\core\\interactiveshell.py:3450: UserWarning: To exit: use 'exit', 'quit', or Ctrl-D.\n",
      "  warn(\"To exit: use 'exit', 'quit', or Ctrl-D.\", stacklevel=1)\n"
     ]
    }
   ],
   "source": [
    "sys.exit(2)"
   ]
  },
  {
   "cell_type": "raw",
   "metadata": {},
   "source": [
    "@pytest.fixture(params=['nodict', 'dict'])\n",
    "def generate_initial_transform_parameters(request, mocker):\n",
    "    [...]\n",
    "    mocker.patch.object(outside_module, 'do_something')\n",
    "    mocker.do_something.return_value(1)"
   ]
  },
  {
   "cell_type": "raw",
   "metadata": {},
   "source": [
    ">>> class Class:\n",
    "...     def method(self):\n",
    "...         pass\n",
    "...\n",
    ">>> with patch('__main__.Class') as MockClass:\n",
    "...     instance = MockClass.return_value\n",
    "...     instance.method.return_value = 'foo'\n",
    "...     assert Class() is instance\n",
    "...     assert Class().method() == 'foo'\n"
   ]
  },
  {
   "cell_type": "code",
   "execution_count": 22,
   "metadata": {
    "tags": []
   },
   "outputs": [],
   "source": [
    "import logging"
   ]
  },
  {
   "cell_type": "code",
   "execution_count": 32,
   "metadata": {},
   "outputs": [
    {
     "data": {
      "text/plain": [
       "['CRITICAL', 'FATAL', 'ERROR', 'WARN', 'WARNING', 'INFO', 'DEBUG', 'NOTSET']"
      ]
     },
     "execution_count": 32,
     "metadata": {},
     "output_type": "execute_result"
    }
   ],
   "source": [
    "levels = logging._nameToLevel\n",
    "choices = list(levels.keys())\n",
    "choices"
   ]
  },
  {
   "cell_type": "code",
   "execution_count": 33,
   "metadata": {},
   "outputs": [
    {
     "data": {
      "text/plain": [
       "40"
      ]
     },
     "execution_count": 33,
     "metadata": {},
     "output_type": "execute_result"
    }
   ],
   "source": [
    "logr_envir = logging.getLogger(\"this\")\n",
    "logr_envir.setLevel(logging.ERROR)\n",
    "logr_envir.level"
   ]
  },
  {
   "cell_type": "code",
   "execution_count": 35,
   "metadata": {},
   "outputs": [
    {
     "name": "stderr",
     "output_type": "stream",
     "text": [
      "oops\n"
     ]
    }
   ],
   "source": [
    "logr_envir.error(\"oops\")"
   ]
  },
  {
   "cell_type": "code",
   "execution_count": 31,
   "metadata": {},
   "outputs": [
    {
     "data": {
      "text/plain": [
       "40"
      ]
     },
     "execution_count": 31,
     "metadata": {},
     "output_type": "execute_result"
    }
   ],
   "source": [
    "del logr_envir\n",
    "logr_envir = logging.getLogger(\"this\")\n",
    "logr_envir.setLevel(\"ERROR\")\n",
    "logr_envir.level"
   ]
  },
  {
   "cell_type": "markdown",
   "metadata": {},
   "source": [
    "# No dry-run for conda env create!\n",
    "### see [Issue7495](https://github.com/conda/conda/issues/7495)"
   ]
  },
  {
   "cell_type": "code",
   "execution_count": 3,
   "metadata": {},
   "outputs": [],
   "source": [
    "from new_conda_env import envir, processing as proc\n",
    "from new_conda_env.cli import generate_parser"
   ]
  },
  {
   "cell_type": "code",
   "execution_count": 4,
   "metadata": {},
   "outputs": [
    {
     "data": {
      "text/plain": [
       "'new_conda_env'"
      ]
     },
     "execution_count": 4,
     "metadata": {},
     "output_type": "execute_result"
    },
    {
     "name": "stdout",
     "output_type": "stream",
     "text": [
      "\n",
      "conda_new_env is a tool for creating a 'lean' environment from\n",
      "an existing one, e.g. when a new kernel version is desired.\n",
      "\n"
     ]
    },
    {
     "data": {
      "text/plain": [
       "Namespace(old_ver='3.10.8', new_ver='3.9', dotless_ver=True, env_to_clone='ds310', new_env_name='ds39', kernel='python', display_new_yml=1, debug=1)"
      ]
     },
     "execution_count": 4,
     "metadata": {},
     "output_type": "execute_result"
    }
   ],
   "source": [
    "conda_env_parser = generate_parser()\n",
    "conda_env_parser.prog\n",
    "print(conda_env_parser.description)\n",
    "\n",
    "args = conda_env_parser.parse_args(\"-old_ver 3.10.8 -new_ver 3.9 -dotless_ver 1 -env_to_clone ds310 -new_env_name ds39\".split())\n",
    "args"
   ]
  },
  {
   "cell_type": "code",
   "execution_count": null,
   "metadata": {},
   "outputs": [],
   "source": [
    "conda_vir = envir.CondaEnvir(old_ver=args.old_ver,\n",
    "                             new_ver=args.new_ver, \n",
    "                             dotless_ver=args.dotless_ver,\n",
    "                             env_to_clone=args.env_to_clone,\n",
    "                             new_env_name=args.new_env_name,\n",
    "                             kernel=args.kernel,\n",
    "                             display_new_yml=args.display_new_yml,\n",
    "                             log_level=args.log_level)\n",
    "\n",
    "fdir(conda_vir)\n",
    "\n",
    "msg = \"Basic info:\\n\"\n",
    "msg = msg + f\"- Root: {conda_vir.conda_root}\\n\"\n",
    "msg = msg + f\"- Info dict:\\n\\t{conda_vir.basic_info}\"\n",
    "print(msg)"
   ]
  },
  {
   "cell_type": "code",
   "execution_count": null,
   "metadata": {},
   "outputs": [],
   "source": [
    "conda_vir.create_new_env_yaml()"
   ]
  },
  {
   "cell_type": "markdown",
   "metadata": {},
   "source": [
    "# Call example at the cmd or terminal window:\n",
    "`python -m new_conda_env.main -old_ver 3.10 -new_ver 3.9 -dotless_ver 1 -env_to_clone ds310 -new_env_name ds39`"
   ]
  },
  {
   "cell_type": "code",
   "execution_count": null,
   "metadata": {},
   "outputs": [],
   "source": []
  },
  {
   "cell_type": "raw",
   "metadata": {},
   "source": [
    "# this actually refers to the parent folder of the [Ana|mini]conda installation:\n",
    "# no guarantee that it's the user's?\n",
    "#\n",
    "user_dir = conda_vir.basic_info['conda_prefix'].parent\n",
    "user_dir\n",
    "\n",
    "conda_vir.basic_info[\"user_condarc\"].parent\n",
    "conda_vir.user_dir\n",
    "\n",
    "Path().home()"
   ]
  }
 ],
 "metadata": {
  "kernelspec": {
   "display_name": "Python 3.10.8 ('base')",
   "language": "python",
   "name": "python3"
  },
  "language_info": {
   "codemirror_mode": {
    "name": "ipython",
    "version": 3
   },
   "file_extension": ".py",
   "mimetype": "text/x-python",
   "name": "python",
   "nbconvert_exporter": "python",
   "pygments_lexer": "ipython3",
   "version": "3.10.8"
  },
  "vscode": {
   "interpreter": {
    "hash": "063dc3bc1edf546caa61479b419bc69cb590bf9fb6d357025cf76b3c16b364f3"
   }
  }
 },
 "nbformat": 4,
 "nbformat_minor": 4
}
