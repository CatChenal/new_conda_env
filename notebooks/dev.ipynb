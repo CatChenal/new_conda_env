{
 "cells": [
  {
   "cell_type": "markdown",
   "metadata": {},
   "source": [
    "_Cell 1: jupyter helpers_"
   ]
  },
  {
   "cell_type": "code",
   "execution_count": null,
   "metadata": {
    "jupyter": {
     "source_hidden": true
    },
    "tags": []
   },
   "outputs": [],
   "source": [
    "# jupyter helpers\n",
    "\n",
    "# To get multiple outputs from one cell:\n",
    "from IPython.core.interactiveshell import InteractiveShell\n",
    "InteractiveShell.ast_node_interactivity = 'all'\n",
    "\n",
    "from IPython import get_ipython\n",
    "from IPython.display import HTML, Markdown, Image\n",
    "# for presentations:\n",
    "#display(HTML(\"<style>.container { width:100% !important; }</style>\"))\n",
    "\n",
    "\n",
    "def add_div(div_class='info', div_start='Tip:', \n",
    "            div_text='Some tip here', output_string=True):\n",
    "    \"\"\"\n",
    "    Behaviour with default `output_string=True`:\n",
    "    The cell is overwritten with the output, but the cell mode is still 'code',\n",
    "    not 'markdown'.\n",
    "    Workaround: After running the function, click on the new cell, press ESC, \n",
    "                type 'm', then run the new cell.\n",
    "    If `output_string=False`, the output is displayed in an new cell with the \n",
    "    code cell visible.\n",
    "    ```\n",
    "    [x]\n",
    "    add_div('alert-warning', 'Tip: ', 'some tip here', output_string=True)\n",
    "    [x]\n",
    "    <div class=\"alert alert-warning\"><b>Tip: </b>some tip here</div>\n",
    "    ```\n",
    "    \"\"\"\n",
    "    accepted = ['info', 'warning', 'danger']\n",
    "    div_class = div_class.lower()\n",
    "    if div_class not in accepted:\n",
    "        msg = f'<div class=\"alert\"><b>Wrong class:&nbsp;</b> `div_start` not in: {accepted}.</div>'\n",
    "        return Markdown(msg)\n",
    "    \n",
    "    div = f\"\"\"<div class=\"alert alert-{div_class}\"><b>{div_start}&nbsp;&nbsp;</b>{div_text}</div>\"\"\"\n",
    "    if output_string:\n",
    "        return get_ipython().set_next_input(div, 'markdown')\n",
    "    else:\n",
    "        return Markdown(div)\n",
    "\n",
    "    \n",
    "def new_section(title='New section'):\n",
    "    style = \"text-align:center;background:#c2d3ef;padding:16px;color:#ffffff;font-size:2em;width:98%\"\n",
    "    div = f'<div style=\"{style}\">{title}</div>'\n",
    "    #return HTML('<div style=\"{}\">{}</div>'.format(style, title))\n",
    "    return get_ipython().set_next_input(div, 'markdown')\n"
   ]
  },
  {
   "cell_type": "markdown",
   "metadata": {},
   "source": [
    "_Cell 2: project helpers_"
   ]
  },
  {
   "cell_type": "code",
   "execution_count": null,
   "metadata": {
    "jupyter": {
     "source_hidden": true
    },
    "tags": []
   },
   "outputs": [],
   "source": [
    "# project helpers\n",
    "\n",
    "import sys\n",
    "from pathlib import Path\n",
    "from pprint import pprint as pp\n",
    "\n",
    "def sys_info():\n",
    "    frmt = \"\\nListing from sys_info():\\n\"\n",
    "    frmt += \"Python ver: {}\\nPython env: {}\\n\"\n",
    "    frmt += \"OS:         {}\\nCurrent dir: {}\\n\"\n",
    "    print(frmt.format(sys.version, \n",
    "                      Path(sys.prefix).name,\n",
    "                      sys.platform,\n",
    "                      Path.cwd()))\n",
    "\n",
    "\n",
    "def add_to_sys_path(this_path, up=False):\n",
    "    \"\"\"\n",
    "    Prepend this_path to sys.path.\n",
    "    If up=True, path refers to parent folder (1 level up).\n",
    "    \"\"\"\n",
    "    newp = Path(this_path).as_posix() # no str method (?)\n",
    "    if up:\n",
    "        newp = Path(this_path).parent.as_posix()\n",
    "\n",
    "    msg = 'Path already in sys.path'\n",
    "    if newp not in sys.path:\n",
    "        sys.path.insert(1, newp)\n",
    "        msg = 'Path added to sys.path'\n",
    "    print(msg)\n",
    "\n",
    "# if notebook inside another folder, eg ./notebooks:\n",
    "nb_folder = 'notebooks'\n",
    "add_to_sys_path(Path.cwd(), Path.cwd().name.startswith(nb_folder))\n",
    "\n",
    "\n",
    "# Filtered dir() for method discovery:\n",
    "def filter_dir(mdl, filter_str=None, start_with_str='_', exclude=True):\n",
    "    \"\"\"Filter dir(mdl) for method discovery.\n",
    "       Input:\n",
    "       :param mdl (object): module, optionally with submodule path(s), e.g. mdl.submdl1.submdl2.\n",
    "       :param filter_str (str, None): filter all method names containing that string.\n",
    "       :param start_with_str (str, '_'), exclude (bool, True): start_with_str and exclude work \n",
    "              together to perform search on non-dunder methods (default).\n",
    "    \"\"\"\n",
    "    search_dir = [d for d in dir(mdl) if not d.startswith(start_with_str) == exclude]\n",
    "    if filter_str is None:\n",
    "        return search_dir\n",
    "    else:\n",
    "        filter_str = filter_str.lower()\n",
    "        return [d for d in search_dir if d.lower().find(filter_str) != -1]\n",
    "\n",
    "\n",
    "def get_project_dirs(which: list,\n",
    "                     nb_folder='notebooks',\n",
    "                     use_parent=True):\n",
    "    '''Create folder(s) named in `which` at the parent level.'''\n",
    "    dir_lst = []\n",
    "    if Path.cwd().name.startswith(nb_folder) or use_parent:\n",
    "        dir_fn = Path.cwd().parent.joinpath\n",
    "    else:\n",
    "        dir_fn = Path.cwd().joinpath\n",
    "        \n",
    "    for d in which:\n",
    "        DIR = dir_fn(d)\n",
    "        if not DIR.exists():\n",
    "            Path.mkdir(DIR)\n",
    "        dir_lst.append(DIR)\n",
    "    return dir_lst\n",
    "\n",
    "#DIR_DATA, \n",
    "DIR_IMG, DIR_TMP = get_project_dirs(['images', '_temp'])\n",
    "\n",
    "\n",
    "# autoreload extension\n",
    "if 'autoreload' not in get_ipython().extension_manager.loaded:\n",
    "    get_ipython().run_line_magic('load_ext', 'autoreload')\n",
    "\n",
    "%autoreload 2\n",
    "\n",
    "#..................\n",
    "sys_info()\n",
    "\n",
    "no_wmark = False\n",
    "try:\n",
    "    %load_ext watermark\n",
    "    #%watermark\n",
    "except ModuleNotFoundError:\n",
    "    no_wmark = True\n",
    "\n",
    "if not no_wmark:\n",
    "    print(\"\\nListing from watermark ext:\")\n",
    "    %watermark\n",
    "    #-iv"
   ]
  },
  {
   "cell_type": "markdown",
   "metadata": {},
   "source": [
    "---\n",
    "---\n",
    "# Testing modules\n",
    "---"
   ]
  },
  {
   "cell_type": "code",
   "execution_count": null,
   "metadata": {},
   "outputs": [],
   "source": [
    "from new_conda_env import main"
   ]
  },
  {
   "cell_type": "code",
   "execution_count": null,
   "metadata": {},
   "outputs": [],
   "source": [
    "#\n",
    "# Class arguments => to be retrieved from cli\n",
    "#\n",
    "\n",
    "# name of env to 'quick-clone':\n",
    "env_to_clone = 'ds310'\n",
    "\n",
    "# remove periods in kernel ver if True:\n",
    "dotless_ver = True\n",
    "old_py_ver = '3.10'\n",
    "new_py_ver = '3.11'\n",
    "#kernel = \"python\"  # (default)\n",
    "#debug = True # (default until conda-forge upload)\n",
    "\n",
    "conda_vir = main.CondaEnvir(old_py_ver, new_py_ver, dotless_ver, env_to_clone)\n",
    "conda_vir\n",
    "print(conda_vir)"
   ]
  },
  {
   "cell_type": "code",
   "execution_count": null,
   "metadata": {},
   "outputs": [],
   "source": [
    "conda_vir.new_env_name"
   ]
  },
  {
   "cell_type": "raw",
   "metadata": {},
   "source": [
    "filter_dir(main)"
   ]
  },
  {
   "cell_type": "raw",
   "metadata": {},
   "source": [
    "print(conda_vir.has_user_rc, conda_vir.conda_root, conda_vir.basic_info, sep='\\n')"
   ]
  },
  {
   "cell_type": "raw",
   "metadata": {},
   "source": [
    "user_dir = conda_vir.basic_info['conda_prefix'].parent\n",
    "user_dir"
   ]
  },
  {
   "cell_type": "code",
   "execution_count": null,
   "metadata": {},
   "outputs": [],
   "source": [
    "conda_vir.basic_info"
   ]
  },
  {
   "cell_type": "code",
   "execution_count": null,
   "metadata": {},
   "outputs": [],
   "source": [
    "if conda_vir.basic_info['active_prefix'] != conda_vir.conda_root:\n",
    "    print(\"`new_cond_env` should be run in (base), but this environment is activated:\",\n",
    "          conda_vir.basic_info['active_prefix'].name)"
   ]
  },
  {
   "cell_type": "markdown",
   "metadata": {},
   "source": [
    "# File processing\n",
    "\n",
    "## Using 2 files:\n",
    "* test_yml_nobld = \"env_ds310_nobld.yml\" \n",
    " => get pip dependencies \n",
    " => remove versions\n",
    "\n",
    "* test_yml_hist = \"env_ds310_hist.yml\" \n",
    " => delete kernel line (python) \n",
    " => insert kernel line with new version as 1st dep \n",
    " => insert pip deps as last item in deps list (append)\n",
    "\n",
    "\n",
    "## TODO: Create those 2 files using the conda api"
   ]
  },
  {
   "cell_type": "code",
   "execution_count": null,
   "metadata": {},
   "outputs": [],
   "source": [
    "test_yml_nobld = \"env_ds310_nobld.yml\"\n",
    "test_yml_hist = \"env_ds310_hist.yml\"\n",
    "\n",
    "yml_nobld_path = DIR_TMP.joinpath(test_yml_nobld)\n",
    "assert yml_nobld_path.exists()\n",
    "\n",
    "yml_hist_path = DIR_TMP.joinpath(test_yml_hist)\n",
    "assert yml_hist_path.exists()\n",
    "# keys :: ['name', 'channels', 'dependencies', 'prefix']\n",
    "\n",
    "yml_nobld = main.load_env_yml(yml_nobld_path)\n",
    "\n",
    "clean_pips = main.get_pip_deps(yml_nobld)\n",
    "clean_pips"
   ]
  },
  {
   "cell_type": "code",
   "execution_count": null,
   "metadata": {},
   "outputs": [],
   "source": [
    "yml_hist = main.load_env_yml(yml_hist_path)\n",
    "\n",
    "kernel = \"python\"\n",
    "old_ker_name = kernel + \"=\" + old_py_ver\n",
    "new_ker_ver = kernel + \"=\" + new_py_ver\n",
    "\n",
    "new_prefix = conda_vir.new_prefix\n",
    "print(new_prefix)\n",
    "\"\"\" \n",
    "# Add pip, wheel, and setuptools as deps of Python, def=true in condarc\n",
    "add_pip_as_python_dependency: true\n",
    "...but not listed by export --from-history\n",
    "Needed:\n",
    "  - wheel\n",
    "  - setuptools\n",
    "  - pip:\n",
    "      - actdiag\n",
    "      - blockdiag\n",
    "      - funcparserlib\n",
    "      - ....\n",
    "      - \n",
    "\"\"\"\n",
    "whe_setools = []\n",
    "\n",
    "# add new kernel ver as 1st dep:\n",
    "if yml_hist[\"dependencies\"][0] != new_ker_ver:\n",
    "    yml_hist[\"dependencies\"].insert(0, new_ker_ver)\n",
    "\n",
    "for i, mapping in enumerate(yml_hist[\"dependencies\"]):\n",
    "    if mapping == old_ker_name:\n",
    "        print(i, mapping, \"removed\")\n",
    "        _ = yml_hist[\"dependencies\"].pop(i)\n",
    "    if mapping.startswith(\"setuptools=\") or mapping.startswith(\"wheel=\"):\n",
    "        whe_setools.append(i, mapping)\n",
    "        \n",
    "at_end = i + 1\n",
    "\n",
    "if not whe_setools:\n",
    "    print(\"no wheel or setuptools\")\n",
    "    yml_hist[\"dependencies\"].append(\"setuptools\")\n",
    "    yml_hist[\"dependencies\"].append(\"wheel\")\n",
    "    at_end += 2\n",
    "elif len(whe_setools) == 1:\n",
    "    which = \"setuptools\"\n",
    "    if whe_setools[0][1] == which: # found, other is missing\n",
    "        which = \"wheel\"\n",
    "    yml_hist[\"dependencies\"].append(which)\n",
    "    at_end += 1\n",
    "          \n",
    "yml_hist[\"dependencies\"].insert(at_end, clean_pips)\n",
    "\n",
    "main.yaml_round_trip_dump(yml_hist, sys.stdout)"
   ]
  },
  {
   "cell_type": "raw",
   "metadata": {
    "jupyter": {
     "source_hidden": true
    },
    "tags": []
   },
   "source": [
    "# OLD\n",
    "\n",
    "import os\n",
    "from pathlib import Path\n",
    "import subprocess\n",
    "from subprocess import Popen, PIPE\n",
    "\n",
    "import yaml\n",
    "from yaml import Loader, Dumper\n",
    "\n",
    "\n",
    "def get_yml_file(yml_path: Path) -> dict:\n",
    "    if yml_path.exists():\n",
    "        with open(yml_path) as stream:\n",
    "            yml_file = yaml.load(stream, Loader)\n",
    "        return yml_file\n",
    "    raise FileNotFoundError(f\"NotFound: {yml_path}\")\n",
    "    \n",
    "    \n",
    "def save_dict_to_yml(yml_filepath: Path, yml_dict: dict) -> None:\n",
    "    with open(yml_filepath, 'w') as out:\n",
    "        yaml_round_trip_dump(yml_dict, out)\n",
    "\n",
    "\n",
    "\n",
    "def get_python_new_deps(env_file:dict, new_py_ver: str) -> list:\n",
    "    \"\"\"Add or amend the yaml dependencies for python.\n",
    "    \"\"\"\n",
    "    \n",
    "    deps = env_file[\"dependencies\"]\n",
    "    new_deps = []\n",
    "    pys = [i for i, d in enumerate(deps) if d.startswith(\"python=\")]\n",
    "    if pys:\n",
    "        del deps[pys[0]]  # in case there are several, possible??\n",
    "   \n",
    "    return [\"python=\"+new_py_ver] + deps \n",
    "\n",
    "\n",
    "def create_new_env_yml(user_dir, new_py_ver, new_env_name):\n",
    "    \"\"\"\n",
    "    \"\"\"\n",
    "    \n",
    "def main() -> list:\n",
    "    new_py_ver = \"3.9\"\n",
    "    new_env_name = \"fav39\"\n",
    "    \n",
    "    # For testing, env_generic_minimal_test.yml has no python dep & prefix line is \"prefix: envs_path\\some_name\"\n",
    "    yml_filename = \"env_generic_minimal_test.yml\"\n",
    "    yml_new_filename = yml_filename.replace(\"test\", new_env_name)\n",
    "    \n",
    "    # todo: run conda export --from history > yml_filename if not .exists()\n",
    "\n",
    "    python_dirs = get_python_dirs().split('\\n')\n",
    "    user_dirs = get_user_dirs(python_dirs)\n",
    "    user_dir = user_dirs[0]                    # consider 1st one only\n",
    "    yml_path = user_dir.joinpath(yml_filename) \n",
    "    \n",
    "    # >>> in create_new_env_yml:\n",
    "    new_prefix = get_new_prefix(user_dir, new_env_name)\n",
    "    env_file = get_yml_file(yml_path)\n",
    "    new_deps = get_python_new_deps(env_file, new_py_ver)\n",
    "\n",
    "    # update dict:\n",
    "    env_file[\"name\"] = new_env_name\n",
    "    env_file[\"dependencies\"] = new_deps\n",
    "    env_file[\"prefix\"] = new_prefix\n",
    "    # <<<<\n",
    "    \n",
    "    #todo: create new env file\n",
    "    #create_new_env_yml(yml_path, env_file, new_py_ver, yml_new_filename, env_file)\n",
    "    \n",
    "    return\n",
    "    "
   ]
  },
  {
   "cell_type": "raw",
   "metadata": {
    "jupyter": {
     "source_hidden": true
    },
    "tags": []
   },
   "source": [
    "python_dirs = get_python_dirs().split('\\n')\n",
    "python_dirs\n",
    "\n",
    "user_dirs = get_user_dirs(python_dirs)\n",
    "user_dirs\n",
    "str(user_dirs[0])"
   ]
  },
  {
   "cell_type": "raw",
   "metadata": {
    "jupyter": {
     "source_hidden": true
    },
    "tags": []
   },
   "source": [
    "# For testing, env_generic_minimal_test.yml has no python dep & prefix line is \"prefix: envs_path\\some_name\"\n",
    "yml_filename = \"env_generic_minimal_test.yml\"\n",
    "yml_path = user_dirs[0].joinpath(yml_filename)\n",
    "\n",
    "env_file = get_yml_file(yml_path)\n",
    "env_file.keys()"
   ]
  }
 ],
 "metadata": {
  "kernelspec": {
   "display_name": "python3 (root) *",
   "language": "python",
   "name": "conda-root-py"
  },
  "language_info": {
   "codemirror_mode": {
    "name": "ipython",
    "version": 3
   },
   "file_extension": ".py",
   "mimetype": "text/x-python",
   "name": "python",
   "nbconvert_exporter": "python",
   "pygments_lexer": "ipython3",
   "version": "3.10.8"
  }
 },
 "nbformat": 4,
 "nbformat_minor": 4
}
