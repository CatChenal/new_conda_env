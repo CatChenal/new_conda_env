{
 "cells": [
  {
   "cell_type": "code",
   "execution_count": 25,
   "metadata": {},
   "outputs": [
    {
     "name": "stdout",
     "output_type": "stream",
     "text": [
      "Path added to sys.path: C:/Users/catch/Documents/GitHub/new_env\n",
      "\n",
      "Python ver: 3.10.8 | packaged by conda-forge | (main, Nov 22 2022, 08:16:33) [MSC v.1929 64 bit (AMD64)]\n",
      "Python env: py310\n",
      "OS:         win32\n",
      "Current dir: C:\\Users\\catch\\Documents\\GitHub\\new_env\\notebooks\n",
      "\n"
     ]
    },
    {
     "name": "stderr",
     "output_type": "stream",
     "text": [
      "C:\\Users\\catch\\AppData\\Local\\Temp\\ipykernel_14396\\775255977.py:87: MatplotlibDeprecationWarning: The seaborn styles shipped by Matplotlib are deprecated since 3.6, as they no longer correspond to the styles shipped by seaborn. However, they will remain available as 'seaborn-v0_8-<style>'. Alternatively, directly use the seaborn API instead.\n",
      "  plt.style.use('seaborn-muted')\n"
     ]
    }
   ],
   "source": [
    "# To get multiple outputs from one cell:\n",
    "from IPython.core.interactiveshell import InteractiveShell\n",
    "InteractiveShell.ast_node_interactivity = 'all'\n",
    "\n",
    "from IPython import get_ipython\n",
    "from IPython.display import HTML, Markdown, Image\n",
    "# for presentations:\n",
    "#display(HTML(\"<style>.container { width:100% !important; }</style>\"))\n",
    "\n",
    "import sys\n",
    "from pathlib import Path\n",
    "\n",
    "def sys_info():\n",
    "    frmt = '\\nPython ver: {}\\nPython env: {}\\n'\n",
    "    frmt += 'OS:         {}\\nCurrent dir: {}\\n'\n",
    "    print(frmt.format(sys.version, \n",
    "                      Path(sys.prefix).name,\n",
    "                      sys.platform,\n",
    "                      Path.cwd()))\n",
    "\n",
    "\n",
    "def add_to_sys_path(this_path, up=False):\n",
    "    \"\"\"\n",
    "    Prepend this_path to sys.path.\n",
    "    If up=True, path refers to parent folder (1 level up).\n",
    "    \"\"\"\n",
    "    newp = Path(this_path).as_posix() # no str method (?)\n",
    "    if up:\n",
    "        newp = Path(this_path).parent.as_posix()\n",
    "\n",
    "    msg = F'Path already in sys.path: {newp}'\n",
    "    if newp not in sys.path:\n",
    "        sys.path.insert(1, newp)\n",
    "        msg = F'Path added to sys.path: {newp}'\n",
    "    print(msg)\n",
    "\n",
    "# if notebook inside another folder, eg ./notebooks:\n",
    "nb_folder = 'notebooks'\n",
    "add_to_sys_path(Path.cwd(), Path.cwd().name.startswith(nb_folder))\n",
    "\n",
    "\n",
    "# Filtered dir() for method discovery:\n",
    "def filter_dir(mdl, filter_str=None, start_with_str='_', exclude=True):\n",
    "    \"\"\"Filter dir(mdl) for method discovery.\n",
    "       Input:\n",
    "       :param mdl (object): module, optionally with submodule path(s), e.g. mdl.submdl1.submdl2.\n",
    "       :param filter_str (str, None): filter all method names containing that string.\n",
    "       :param start_with_str (str, '_'), exclude (bool, True): start_with_str and exclude work \n",
    "              together to perform search on non-dunder methods (default).\n",
    "    \"\"\"\n",
    "    search_dir = [d for d in dir(mdl) if not d.startswith(start_with_str) == exclude]\n",
    "    if filter_str is None:\n",
    "        return search_dir\n",
    "    else:\n",
    "        filter_str = filter_str.lower()\n",
    "        return [d for d in search_dir if d.lower().find(filter_str) != -1]\n",
    "\n",
    "\n",
    "def get_project_dirs(which=['data', 'images'],\n",
    "                     nb_folder='notebooks',\n",
    "                     use_parent=True):\n",
    "    '''Create folder(s) named in `which` at the parent level.'''\n",
    "    dir_lst = []\n",
    "    if Path.cwd().name.startswith(nb_folder) or use_parent:\n",
    "        dir_fn = Path.cwd().parent.joinpath\n",
    "    else:\n",
    "        dir_fn = Path.cwd().joinpath\n",
    "        \n",
    "    for d in which:\n",
    "        DIR = dir_fn(d)\n",
    "        if not DIR.exists():\n",
    "            Path.mkdir(DIR)\n",
    "        dir_lst.append(DIR)\n",
    "    return dir_lst\n",
    "\n",
    "DIR_DATA, DIR_IMG = get_project_dirs()\n",
    "    \n",
    "#import numpy as np\n",
    "#import scipy as sp\n",
    "#from scipy import stats as sps\n",
    "import pandas as pd\n",
    "#pd.set_option(\"display.max_colwidth\", 200)\n",
    "\n",
    "import matplotlib as mpl\n",
    "from matplotlib import pyplot as plt\n",
    "plt.ion()\n",
    "plt.style.use('seaborn-muted')\n",
    "\n",
    "from pprint import pprint as pp\n",
    "\n",
    "\n",
    "def add_div(div_class='info', div_start='Tip:', \n",
    "            div_text='Some tip here', output_string=True):\n",
    "    \"\"\"\n",
    "    Behaviour with default `output_string=True`:\n",
    "    The cell is overwritten with the output, but the cell mode is still 'code',\n",
    "    not 'markdown'.\n",
    "    Workaround: After running the function, click on the new cell, press ESC, \n",
    "                type 'm', then run the new cell.\n",
    "    If `output_string=False`, the output is displayed in an new cell with the \n",
    "    code cell visible.\n",
    "    ```\n",
    "    [x]\n",
    "    add_div('alert-warning', 'Tip: ', 'some tip here', output_string=True)\n",
    "    [x]\n",
    "    <div class=\"alert alert-warning\"><b>Tip: </b>some tip here</div>\n",
    "    ```\n",
    "    \"\"\"\n",
    "    accepted = ['info', 'warning', 'danger']\n",
    "    div_class = div_class.lower()\n",
    "    if div_class not in accepted:\n",
    "        msg = f'<div class=\"alert\"><b>Wrong class:&nbsp;</b> `div_start` not in: {accepted}.</div>'\n",
    "        return Markdown(msg)\n",
    "    \n",
    "    div = f\"\"\"<div class=\"alert alert-{div_class}\"><b>{div_start}&nbsp;&nbsp;</b>{div_text}</div>\"\"\"\n",
    "    if output_string:\n",
    "        return get_ipython().set_next_input(div, 'markdown')\n",
    "    else:\n",
    "        return Markdown(div)\n",
    "\n",
    "    \n",
    "def new_section(title='New section'):\n",
    "    style = \"text-align:center;background:#c2d3ef;padding:16px;color:#ffffff;font-size:2em;width:98%\"\n",
    "    div = f'<div style=\"{style}\">{title}</div>'\n",
    "    #return HTML('<div style=\"{}\">{}</div>'.format(style, title))\n",
    "    return get_ipython().set_next_input(div, 'markdown')\n",
    "\n",
    "\n",
    "def show_versions():\n",
    "    txt = '<pre><br>'\n",
    "    txt += F'Python:\\t\\t{sys.version}<br>'\n",
    "    txt += F'Python env:\\t{Path(sys.prefix).name}<br>'\n",
    "    #txt += F'Numpy:\\t\\t{np.__version__}<br>'\n",
    "    #txt += F'Scipy:\\t\\t{sp.__version__}<br>'\n",
    "    #txt += F'Pandas:\\t\\t{pd.__version__}<br>'\n",
    "    txt += F'Matplotlib:\\t{mpl.__version__}<br>'\n",
    "    txt += F'Currrent dir: {Path.cwd()}'\n",
    "    txt += '</pre>'\n",
    "    div = f\"\"\"<div class=\"alert alert-info\"><b>Versions:</b><br>{txt}</div>\"\"\"\n",
    "    return HTML(div)\n",
    "\n",
    "\n",
    "# autoreload extension\n",
    "if 'autoreload' not in get_ipython().extension_manager.loaded:\n",
    "    get_ipython().run_line_magic('load_ext', 'autoreload')\n",
    "\n",
    "%autoreload 2\n",
    "\n",
    "#..................\n",
    "sys_info()\n",
    "\n",
    "no_wmark = False\n",
    "try:\n",
    "    %load_ext watermark\n",
    "    %watermark\n",
    "except ModuleNotFoundError:\n",
    "    no_wmark = True\n",
    "\n",
    "if no_wmark:\n",
    "    show_versions()\n",
    "else:\n",
    "    %watermark -iv"
   ]
  },
  {
   "cell_type": "markdown",
   "metadata": {},
   "source": [
    "---\n",
    "---\n",
    "# Testing locate.py (subprocess)\n",
    "---"
   ]
  },
  {
   "cell_type": "code",
   "execution_count": 135,
   "metadata": {},
   "outputs": [],
   "source": [
    "import os\n",
    "from pathlib import Path\n",
    "import subprocess\n",
    "from subprocess import Popen, PIPE\n",
    "\n",
    "import yaml\n",
    "from yaml import Loader, Dumper\n",
    "\n",
    "\n",
    "def get_yml_file(yml_path: Path) -> dict:\n",
    "    if yml_path.exists():\n",
    "        with open(yml_path) as stream:\n",
    "            yml_file = yaml.load(stream, Loader)\n",
    "        return yml_file\n",
    "    raise FileNotFoundError(f\"NotFound: {yml_path}\")\n",
    "    \n",
    "    \n",
    "def save_dict_to_yml(yml_filepath: Path, yml_dict: dict) -> None:\n",
    "    with open(yml_filepath, 'w') as out:\n",
    "        yaml.dump(yml_dict, out)\n",
    "\n",
    "        \n",
    "def get_python_dirs():\n",
    "    \"\"\"Run the command `where python` in the current directory.\n",
    "    \"\"\"\n",
    "    with Popen([\"where\", \"python\"], stdout=PIPE, text=True) as proc:\n",
    "        python_dirs = proc.stdout.read()\n",
    "        \n",
    "    return python_dirs\n",
    "\n",
    "\n",
    "def get_user_dirs(dirs: list[str]):\n",
    "    \"\"\"Return a list of the directories' Path.home() part from a list of directories (str) \n",
    "    if their paths contain 'Users' or 'home'.\n",
    "    \"\"\"\n",
    "    user_dirs = set()\n",
    "    for d in dirs:\n",
    "        if \"Users\" in d or \"home\" in d:\n",
    "            user_dirs.add(Path(d).home())\n",
    "    \n",
    "    return list(user_dirs)\n",
    "\n",
    "\n",
    "def get_new_prefix(u_dir:Path, new_env_name: str) -> str:\n",
    "    \"\"\"Return a yml prefix key value:\n",
    "       prefix: u_dir\\<Anaconda3|Miniconda3>\\envs\\new_env_name\n",
    "    \"\"\"\n",
    "    # Anaconda3:\n",
    "    conda_env_path = u_dir.joinpath(\"Anaconda3\", \"envs\")\n",
    "    if conda_env_path.exists():\n",
    "        return str(conda_env_path.joinpath(new_env_name))\n",
    "    # Miniconda3:\n",
    "    conda_env_path = u_dir.joinpath(\"Miniconda3\", \"envs\")\n",
    "    if conda_env_path.exists():\n",
    "        return str(conda_env_path.joinpath(new_env_name))\n",
    "    # other cases: not yet supported, TODO\n",
    "    msg = \"Conda environments folder other than \"\n",
    "    msg += \"'u_dir\\Anaconda3\\envs' or 'u_dir\\Miniconda3\\envs '\"\n",
    "    msg += \"not yet supported.\"\n",
    "    raise ValueError(msg)\n",
    "    \n",
    "\n",
    "def get_python_new_deps(env_file:dict, new_py_ver: str) -> list:\n",
    "    \"\"\"Add or amend the yaml dependencies for python.\n",
    "    \"\"\"\n",
    "    \n",
    "    deps = env_file[\"dependencies\"]\n",
    "    new_deps = []\n",
    "    pys = [i for i, d in enumerate(deps) if d.startswith(\"python=\")]\n",
    "    if pys:\n",
    "        del deps[pys[0]]  # in case there are several, possible??\n",
    "   \n",
    "    return [\"python=\"+new_py_ver] + deps \n",
    "\n",
    "\n",
    "def create_new_env_yml(user_dir, new_py_ver, new_env_name):\n",
    "    \"\"\"\n",
    "    \"\"\"\n",
    "    \n",
    "def main() -> list:\n",
    "    new_py_ver = \"3.9\"\n",
    "    new_env_name = \"fav39\"\n",
    "    \n",
    "    # For testing, env_generic_minimal_test.yml has no python dep & prefix line is \"prefix: envs_path\\some_name\"\n",
    "    yml_filename = \"env_generic_minimal_test.yml\"\n",
    "    yml_new_filename = yml_filename.replace(\"test\", new_env_name)\n",
    "    \n",
    "    # todo: run conda export --from history > yml_filename if not .exists()\n",
    "\n",
    "    python_dirs = get_python_dirs().split('\\n')\n",
    "    user_dirs = get_user_dirs(python_dirs)\n",
    "    user_dir = user_dirs[0]                    # consider 1st one only\n",
    "    yml_path = user_dir.joinpath(yml_filename) \n",
    "    \n",
    "    # >>> in create_new_env_yml:\n",
    "    new_prefix = get_new_prefix(user_dir, new_env_name)\n",
    "    env_file = get_yml_file(yml_path)\n",
    "    new_deps = get_python_new_deps(env_file, new_py_ver)\n",
    "\n",
    "    # update dict:\n",
    "    env_file[\"name\"] = new_env_name\n",
    "    env_file[\"dependencies\"] = new_deps\n",
    "    env_file[\"prefix\"] = new_prefix\n",
    "    # <<<<\n",
    "    \n",
    "    #todo: create new env file\n",
    "    #create_new_env_yml(yml_path, env_file, new_py_ver, yml_new_filename, env_file)\n",
    "    \n",
    "    return\n",
    "    "
   ]
  },
  {
   "cell_type": "code",
   "execution_count": 137,
   "metadata": {},
   "outputs": [
    {
     "data": {
      "text/plain": [
       "WindowsPath('C:/Users/catch/env_generic_minimal_test.yml')"
      ]
     },
     "execution_count": 137,
     "metadata": {},
     "output_type": "execute_result"
    }
   ],
   "source": [
    "yml_path"
   ]
  },
  {
   "cell_type": "code",
   "execution_count": 130,
   "metadata": {},
   "outputs": [
    {
     "data": {
      "text/plain": [
       "['C:\\\\Users\\\\catch\\\\Anaconda3\\\\envs\\\\py310\\\\python.exe', 'C:\\\\Program Files\\\\Python310\\\\python.exe', 'C:\\\\Users\\\\catch\\\\AppData\\\\Local\\\\Microsoft\\\\WindowsApps\\\\python.exe', '']"
      ]
     },
     "execution_count": 130,
     "metadata": {},
     "output_type": "execute_result"
    },
    {
     "data": {
      "text/plain": [
       "[WindowsPath('C:/Users/catch')]"
      ]
     },
     "execution_count": 130,
     "metadata": {},
     "output_type": "execute_result"
    },
    {
     "data": {
      "text/plain": [
       "'C:\\\\Users\\\\catch'"
      ]
     },
     "execution_count": 130,
     "metadata": {},
     "output_type": "execute_result"
    }
   ],
   "source": [
    "python_dirs = get_python_dirs().split('\\n')\n",
    "python_dirs\n",
    "\n",
    "user_dirs = get_user_dirs(python_dirs)\n",
    "user_dirs\n",
    "str(user_dirs[0])"
   ]
  },
  {
   "cell_type": "code",
   "execution_count": 134,
   "metadata": {},
   "outputs": [
    {
     "data": {
      "text/plain": [
       "dict_keys(['name', 'channels', 'dependencies', 'prefix'])"
      ]
     },
     "execution_count": 134,
     "metadata": {},
     "output_type": "execute_result"
    }
   ],
   "source": [
    "# For testing, env_generic_minimal_test.yml has no python dep & prefix line is \"prefix: envs_path\\some_name\"\n",
    "yml_filename = \"env_generic_minimal_test.yml\"\n",
    "yml_path = user_dirs[0].joinpath(yml_filename)\n",
    "\n",
    "env_file = get_yml_file(yml_path)\n",
    "env_file.keys()"
   ]
  },
  {
   "cell_type": "code",
   "execution_count": 127,
   "metadata": {},
   "outputs": [
    {
     "name": "stdout",
     "output_type": "stream",
     "text": [
      "{'channels': ['conda-forge', 'bioconda', 'pyviz', 'anaconda', 'defaults'],\n",
      " 'dependencies': ['numpy',\n",
      "                  'scipy',\n",
      "                  'pandas',\n",
      "                  'scikit-learn',\n",
      "                  'ca-certificates',\n",
      "                  'certifi',\n",
      "                  'openssl',\n",
      "                  'matplotlib',\n",
      "                  'seaborn',\n",
      "                  'panel',\n",
      "                  'hvplot',\n",
      "                  'nodejs',\n",
      "                  'json',\n",
      "                  'jupyterlab',\n",
      "                  'traitlets',\n",
      "                  'nbformat',\n",
      "                  'jupyterlab_server',\n",
      "                  'jupyter_server',\n",
      "                  'click'],\n",
      " 'name': 'some_name',\n",
      " 'prefix': 'envs_path\\\\some_name'}\n"
     ]
    }
   ],
   "source": [
    "pp(env_file)"
   ]
  },
  {
   "cell_type": "code",
   "execution_count": 82,
   "metadata": {},
   "outputs": [
    {
     "data": {
      "text/plain": [
       "'env_generic_minimal_fav39.yml'"
      ]
     },
     "execution_count": 82,
     "metadata": {},
     "output_type": "execute_result"
    }
   ],
   "source": []
  },
  {
   "cell_type": "code",
   "execution_count": null,
   "metadata": {},
   "outputs": [],
   "source": []
  }
 ],
 "metadata": {
  "kernelspec": {
   "display_name": "Py 3.10",
   "language": "python",
   "name": "python3"
  },
  "language_info": {
   "codemirror_mode": {
    "name": "ipython",
    "version": 3
   },
   "file_extension": ".py",
   "mimetype": "text/x-python",
   "name": "python",
   "nbconvert_exporter": "python",
   "pygments_lexer": "ipython3",
   "version": "3.10.8"
  }
 },
 "nbformat": 4,
 "nbformat_minor": 4
}
